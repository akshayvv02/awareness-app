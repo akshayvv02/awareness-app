{
 "cells": [
  {
   "cell_type": "code",
   "execution_count": 37,
   "metadata": {},
   "outputs": [],
   "source": [
    "import pandas as pd\n",
    "from io import StringIO\n",
    "import requests\n",
    "import logging\n",
    "import json\n",
    "from datetime import datetime\n",
    "import bcrypt\n",
    "from functools import wraps\n",
    "import pytz\n"
   ]
  },
  {
   "cell_type": "code",
   "execution_count": 38,
   "metadata": {},
   "outputs": [],
   "source": [
    "final_df = pd.read_csv('../data/course_members_output.csv')\n",
    "username = 'admin'"
   ]
  },
  {
   "cell_type": "code",
   "execution_count": null,
   "metadata": {},
   "outputs": [],
   "source": []
  },
  {
   "cell_type": "code",
   "execution_count": 43,
   "metadata": {},
   "outputs": [],
   "source": [
    "def updateMetrics(final_df, username):\n",
    "    # Convert time columns to datetime\n",
    "    final_df['Completed Time'] = pd.to_datetime(final_df['Completed Time'])\n",
    "    final_df['Enrollment Time'] = pd.to_datetime(final_df['Enrollment Time'])\n",
    "    final_df['Last Login'] = pd.to_datetime(final_df['Last Login'])\n",
    "    final_df['Enrolled date'] = pd.to_datetime(final_df['Enrolled date'])\n",
    "    completion_percentage = final_df['Course progress'].mean()\n",
    "    # Convert 'Enrolled date' to datetime\n",
    "    final_df['Enrolled date'] = pd.to_datetime(final_df['Enrolled date'], errors='coerce')\n",
    "    # Extract month and year from 'Enrolled date'\n",
    "    final_df['Enrollment Month'] = final_df['Enrolled date'].dt.to_period('M')\n",
    "    # Count enrollments per month and sort by the actual month (newest first)\n",
    "    enrollment_months_count = final_df['Enrollment Month'].value_counts().sort_index(ascending=False)\n",
    "    # Now format the result in the desired format\n",
    "    enrollment_months_sorted = [{'month': month.strftime('%B'), 'value': count} for month, count in enrollment_months_count.items()]\n",
    "    # Select the latest 4 months\n",
    "    latest_4_months = enrollment_months_sorted[:4]\n",
    "    # Define the inactive threshold\n",
    "    inactive_threshold = pd.Timestamp.utcnow() - pd.Timedelta(days=14)\n",
    "\n",
    "    # Filter rows where 'Last Login' is less than the inactive threshold and 'Course progress' is >= 90\n",
    "    inactive_participants = final_df[\n",
    "        (final_df['Last Login'] < inactive_threshold) & \n",
    "        (final_df['Course progress'] < 90)\n",
    "    ].shape[0]\n",
    "    total_participants = final_df.shape[0]\n",
    "\n",
    "    count = final_df[final_df['Course progress'] >= 90].shape[0]\n",
    "    count = round(count/total_participants,2)*100\n",
    "    # Prepare the result as a JSON object\n",
    "    result = {\n",
    "        'total_participants': total_participants,\n",
    "        'average_completion_rate' : count,\n",
    "        \"completion_percentage\": round(completion_percentage,2),\n",
    "        \"inactive_participants\": inactive_participants,\n",
    "        \"enrollment_months\": enrollment_months_sorted,  # Updated to return counts\n",
    "    }\n",
    "    # Write the result to a JSON file\n",
    "    with open('../data/metrics.json', 'w') as json_file:\n",
    "        json.dump(result, json_file, indent=4)\n",
    "\n",
    "    # Display the result\n",
    "    print(json.dumps(result, indent=4))"
   ]
  },
  {
   "cell_type": "code",
   "execution_count": 44,
   "metadata": {},
   "outputs": [
    {
     "name": "stdout",
     "output_type": "stream",
     "text": [
      "{\n",
      "    \"total_participants\": 1708,\n",
      "    \"average_completion_rate\": 88.0,\n",
      "    \"completion_percentage\": 90.65,\n",
      "    \"inactive_participants\": 163,\n",
      "    \"enrollment_months\": [\n",
      "        {\n",
      "            \"month\": \"September\",\n",
      "            \"value\": 518\n",
      "        },\n",
      "        {\n",
      "            \"month\": \"August\",\n",
      "            \"value\": 130\n",
      "        },\n",
      "        {\n",
      "            \"month\": \"July\",\n",
      "            \"value\": 215\n",
      "        },\n",
      "        {\n",
      "            \"month\": \"June\",\n",
      "            \"value\": 200\n",
      "        },\n",
      "        {\n",
      "            \"month\": \"May\",\n",
      "            \"value\": 520\n",
      "        },\n",
      "        {\n",
      "            \"month\": \"April\",\n",
      "            \"value\": 123\n",
      "        },\n",
      "        {\n",
      "            \"month\": \"March\",\n",
      "            \"value\": 2\n",
      "        }\n",
      "    ]\n",
      "}\n"
     ]
    }
   ],
   "source": [
    "updateMetrics(final_df, username)"
   ]
  },
  {
   "cell_type": "code",
   "execution_count": 35,
   "metadata": {},
   "outputs": [],
   "source": [
    "def getDataRefresh():\n",
    "    df = pd.read_csv('../data/scheduler.csv')\n",
    "    last_row_timestamp = df['timestamp'].iloc[-1]\n",
    "    date, time_part, am_pm = last_row_timestamp.rsplit(' ', 2)\n",
    "    # Combine time and AM/PM\n",
    "    time_str = f\"{time_part} {am_pm}\"\n",
    "    full_datetime_str = f\"{date} {time_str}\"\n",
    "\n",
    "    # Parse the full datetime\n",
    "    last_datetime = datetime.strptime(full_datetime_str, \"%Y-%m-%d %I:%M:%S %p\")\n",
    "\n",
    "    # Set timezone for the last data timestamp (assuming the timestamp is in EST)\n",
    "    est = pytz.timezone('US/Eastern')\n",
    "    last_datetime_est = est.localize(last_datetime)\n",
    "\n",
    "    # Get the current time in UTC and convert it to EST\n",
    "    current_utc_time = datetime.utcnow()\n",
    "    current_est_time = pytz.utc.localize(current_utc_time).astimezone(est)\n",
    "\n",
    "    # Calculate the time difference in minutes\n",
    "    time_difference = current_est_time - last_datetime_est\n",
    "    minutes_ago = int(time_difference.total_seconds() // 60)  # Convert seconds to minutes\n",
    "\n",
    "    print(time_str)\n",
    "    print(date)\n",
    "    print(minutes_ago)"
   ]
  },
  {
   "cell_type": "code",
   "execution_count": 36,
   "metadata": {},
   "outputs": [
    {
     "name": "stdout",
     "output_type": "stream",
     "text": [
      "11:35:05 PM\n",
      "2024-09-28\n",
      "13\n"
     ]
    }
   ],
   "source": [
    "getDataRefresh()"
   ]
  }
 ],
 "metadata": {
  "kernelspec": {
   "display_name": "Python 3",
   "language": "python",
   "name": "python3"
  },
  "language_info": {
   "codemirror_mode": {
    "name": "ipython",
    "version": 3
   },
   "file_extension": ".py",
   "mimetype": "text/x-python",
   "name": "python",
   "nbconvert_exporter": "python",
   "pygments_lexer": "ipython3",
   "version": "3.9.6"
  }
 },
 "nbformat": 4,
 "nbformat_minor": 2
}
